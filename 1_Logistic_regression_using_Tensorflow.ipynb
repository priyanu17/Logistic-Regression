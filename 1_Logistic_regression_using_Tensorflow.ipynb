{
  "nbformat": 4,
  "nbformat_minor": 0,
  "metadata": {
    "colab": {
      "name": " Linear regression using Tensorflow",
      "provenance": [],
      "collapsed_sections": []
    },
    "kernelspec": {
      "name": "python3",
      "display_name": "Python 3"
    }
  },
  "cells": [
    {
      "cell_type": "code",
      "metadata": {
        "id": "pbRvsY8Icg4u",
        "colab_type": "code",
        "colab": {}
      },
      "source": [
        "#Tensorflow is a open source machine learning library that is developed maintained and supported by google "
      ],
      "execution_count": 0,
      "outputs": []
    },
    {
      "cell_type": "code",
      "metadata": {
        "id": "H9AQqFlmcy3_",
        "colab_type": "code",
        "colab": {}
      },
      "source": [
        "#Tensorflow gives a library of tools so that we can omit complicated math \n",
        "#opeartions in our code  "
      ],
      "execution_count": 0,
      "outputs": []
    },
    {
      "cell_type": "code",
      "metadata": {
        "id": "Zc904a2Rb5Fz",
        "colab_type": "code",
        "colab": {}
      },
      "source": [
        "#Understanding what a tensor is \n",
        "#Understanding shapes and data representaion"
      ],
      "execution_count": 0,
      "outputs": []
    },
    {
      "cell_type": "markdown",
      "metadata": {
        "id": "QpdtMW0fVRc-",
        "colab_type": "text"
      },
      "source": [
        "\"A tensor is a generalization of vectors and matrices to potentially higher dimensions. Internally, TensorFlow represents tensors as n-dimensional arrays of base datatypes.\"\n",
        "\n",
        "Each tensor has a data type and a shape.\n",
        "\n",
        "Data Types Include: float32, int32, string and others.\n",
        "\n",
        "Shape: Represents the dimension of data."
      ]
    },
    {
      "cell_type": "code",
      "metadata": {
        "id": "HVuDiPaBX8f2",
        "colab_type": "code",
        "colab": {}
      },
      "source": [
        "%tensorflow_version 2.x\n",
        "# To specify the version 2.x\n",
        "\n",
        "\n",
        "import tensorflow as tf\n",
        "# the tensorflow Module "
      ],
      "execution_count": 0,
      "outputs": []
    },
    {
      "cell_type": "code",
      "metadata": {
        "id": "nqr77gx-eLOX",
        "colab_type": "code",
        "colab": {}
      },
      "source": [
        "# Creating Tensors\n",
        "string = tf.Variable(\"Anu Priya\", tf.string) \n",
        "number = tf.Variable(324, tf.int16)\n",
        "floating = tf.Variable(3.567, tf.float64)"
      ],
      "execution_count": 0,
      "outputs": []
    },
    {
      "cell_type": "code",
      "metadata": {
        "id": "_jDXknopXc1o",
        "colab_type": "code",
        "outputId": "4725a378-f6c6-4a2a-8bbe-ca3b83b884f2",
        "colab": {
          "base_uri": "https://localhost:8080/",
          "height": 67
        }
      },
      "source": [
        "print(string)\n",
        "print(number)\n",
        "print(floating)"
      ],
      "execution_count": 7,
      "outputs": [
        {
          "output_type": "stream",
          "text": [
            "<tf.Variable 'Variable:0' shape=() dtype=string, numpy=b'Anu Priya'>\n",
            "<tf.Variable 'Variable:0' shape=() dtype=int32, numpy=324>\n",
            "<tf.Variable 'Variable:0' shape=() dtype=float32, numpy=3.567>\n"
          ],
          "name": "stdout"
        }
      ]
    },
    {
      "cell_type": "code",
      "metadata": {
        "id": "47okHim2XtT3",
        "colab_type": "code",
        "colab": {}
      },
      "source": [
        "# RANK/DEGREE of a tensor\n",
        "rank1_tensor = tf.Variable([\"first\"], tf.string) \n",
        "rank2_tensor = tf.Variable([[\"first\", \"second\"], [\"third\", \"fourth\"]], tf.string)"
      ],
      "execution_count": 0,
      "outputs": []
    },
    {
      "cell_type": "code",
      "metadata": {
        "id": "09B-5ioJXtwu",
        "colab_type": "code",
        "outputId": "ccf80a88-6b5d-4354-8296-73d6700d8a0b",
        "colab": {
          "base_uri": "https://localhost:8080/",
          "height": 50
        }
      },
      "source": [
        "# SHAPE of a tensor\n",
        "print(tf.shape(rank1_tensor))\n",
        "print(tf.shape(rank2_tensor))"
      ],
      "execution_count": 9,
      "outputs": [
        {
          "output_type": "stream",
          "text": [
            "tf.Tensor([1], shape=(1,), dtype=int32)\n",
            "tf.Tensor([2 2], shape=(2,), dtype=int32)\n"
          ],
          "name": "stdout"
        }
      ]
    },
    {
      "cell_type": "code",
      "metadata": {
        "id": "jxYxzwcRZgZ5",
        "colab_type": "code",
        "outputId": "b02009f2-81d6-4d0d-f0f6-81b125ab4e8e",
        "colab": {
          "base_uri": "https://localhost:8080/",
          "height": 84
        }
      },
      "source": [
        "test_tensor = tf.Variable( 5678, tf.int32)\n",
        "array_1 = tf.Variable([ 1, 1, 1, 2, 2, 2, 3, 3, 3])\n",
        "array_2 = tf.Variable([ [11, 11, 11], [22, 22, 22], [33, 33, 33] ])\n",
        "                      \n",
        "# Execute rank and shape \n",
        "\n",
        "print(tf.rank(array_1))\n",
        "print(tf.rank(array_2))\n",
        "\n",
        "print(tf.shape(array_1))\n",
        "print(tf.shape(array_2))"
      ],
      "execution_count": 10,
      "outputs": [
        {
          "output_type": "stream",
          "text": [
            "tf.Tensor(1, shape=(), dtype=int32)\n",
            "tf.Tensor(2, shape=(), dtype=int32)\n",
            "tf.Tensor([9], shape=(1,), dtype=int32)\n",
            "tf.Tensor([3 3], shape=(2,), dtype=int32)\n"
          ],
          "name": "stdout"
        }
      ]
    },
    {
      "cell_type": "code",
      "metadata": {
        "id": "hI0tzeADaCK5",
        "colab_type": "code",
        "colab": {}
      },
      "source": [
        "\n",
        "# Demonstrating shapes of tensors\n",
        "test_tensor_1 = tf.zeros([2,2])\n",
        "test_tensor_2 = tf.ones([3, 3])"
      ],
      "execution_count": 0,
      "outputs": []
    },
    {
      "cell_type": "code",
      "metadata": {
        "id": "pREQY6Sb3Iga",
        "colab_type": "code",
        "outputId": "2cd0155d-2dc6-4194-f015-666e7f844377",
        "colab": {
          "base_uri": "https://localhost:8080/",
          "height": 134
        }
      },
      "source": [
        "print(test_tensor_1)\n",
        "print(test_tensor_2)"
      ],
      "execution_count": 12,
      "outputs": [
        {
          "output_type": "stream",
          "text": [
            "tf.Tensor(\n",
            "[[0. 0.]\n",
            " [0. 0.]], shape=(2, 2), dtype=float32)\n",
            "tf.Tensor(\n",
            "[[1. 1. 1.]\n",
            " [1. 1. 1.]\n",
            " [1. 1. 1.]], shape=(3, 3), dtype=float32)\n"
          ],
          "name": "stdout"
        }
      ]
    },
    {
      "cell_type": "code",
      "metadata": {
        "id": "uE4oOXG9a5MN",
        "colab_type": "code",
        "colab": {
          "base_uri": "https://localhost:8080/",
          "height": 1000
        },
        "outputId": "93f5fcda-4534-40c1-8a0e-4b706a9cf1cd"
      },
      "source": [
        "# Reshaping a tensor\n",
        "\n",
        "sample_tensor = tf.ones( [4, 4, 4, 4])\n",
        "print(sample_tensor)\n",
        "\n",
        "# Flattening tensor : Converting to rank 1\n",
        "new_sample_tensor = tf.reshape(sample_tensor , [256])\n",
        "\n",
        "\n",
        "# Converting to rank 2\n",
        "new_sample_tensor_2 = tf.reshape(sample_tensor, [16, 16])\n",
        "\n",
        "\n",
        "# Converting to rank 3\n",
        "new_sample_tensor_3 = tf.reshape(sample_tensor, [2, 16, 8])\n",
        "\n"
      ],
      "execution_count": 13,
      "outputs": [
        {
          "output_type": "stream",
          "text": [
            "tf.Tensor(\n",
            "[[[[1. 1. 1. 1.]\n",
            "   [1. 1. 1. 1.]\n",
            "   [1. 1. 1. 1.]\n",
            "   [1. 1. 1. 1.]]\n",
            "\n",
            "  [[1. 1. 1. 1.]\n",
            "   [1. 1. 1. 1.]\n",
            "   [1. 1. 1. 1.]\n",
            "   [1. 1. 1. 1.]]\n",
            "\n",
            "  [[1. 1. 1. 1.]\n",
            "   [1. 1. 1. 1.]\n",
            "   [1. 1. 1. 1.]\n",
            "   [1. 1. 1. 1.]]\n",
            "\n",
            "  [[1. 1. 1. 1.]\n",
            "   [1. 1. 1. 1.]\n",
            "   [1. 1. 1. 1.]\n",
            "   [1. 1. 1. 1.]]]\n",
            "\n",
            "\n",
            " [[[1. 1. 1. 1.]\n",
            "   [1. 1. 1. 1.]\n",
            "   [1. 1. 1. 1.]\n",
            "   [1. 1. 1. 1.]]\n",
            "\n",
            "  [[1. 1. 1. 1.]\n",
            "   [1. 1. 1. 1.]\n",
            "   [1. 1. 1. 1.]\n",
            "   [1. 1. 1. 1.]]\n",
            "\n",
            "  [[1. 1. 1. 1.]\n",
            "   [1. 1. 1. 1.]\n",
            "   [1. 1. 1. 1.]\n",
            "   [1. 1. 1. 1.]]\n",
            "\n",
            "  [[1. 1. 1. 1.]\n",
            "   [1. 1. 1. 1.]\n",
            "   [1. 1. 1. 1.]\n",
            "   [1. 1. 1. 1.]]]\n",
            "\n",
            "\n",
            " [[[1. 1. 1. 1.]\n",
            "   [1. 1. 1. 1.]\n",
            "   [1. 1. 1. 1.]\n",
            "   [1. 1. 1. 1.]]\n",
            "\n",
            "  [[1. 1. 1. 1.]\n",
            "   [1. 1. 1. 1.]\n",
            "   [1. 1. 1. 1.]\n",
            "   [1. 1. 1. 1.]]\n",
            "\n",
            "  [[1. 1. 1. 1.]\n",
            "   [1. 1. 1. 1.]\n",
            "   [1. 1. 1. 1.]\n",
            "   [1. 1. 1. 1.]]\n",
            "\n",
            "  [[1. 1. 1. 1.]\n",
            "   [1. 1. 1. 1.]\n",
            "   [1. 1. 1. 1.]\n",
            "   [1. 1. 1. 1.]]]\n",
            "\n",
            "\n",
            " [[[1. 1. 1. 1.]\n",
            "   [1. 1. 1. 1.]\n",
            "   [1. 1. 1. 1.]\n",
            "   [1. 1. 1. 1.]]\n",
            "\n",
            "  [[1. 1. 1. 1.]\n",
            "   [1. 1. 1. 1.]\n",
            "   [1. 1. 1. 1.]\n",
            "   [1. 1. 1. 1.]]\n",
            "\n",
            "  [[1. 1. 1. 1.]\n",
            "   [1. 1. 1. 1.]\n",
            "   [1. 1. 1. 1.]\n",
            "   [1. 1. 1. 1.]]\n",
            "\n",
            "  [[1. 1. 1. 1.]\n",
            "   [1. 1. 1. 1.]\n",
            "   [1. 1. 1. 1.]\n",
            "   [1. 1. 1. 1.]]]], shape=(4, 4, 4, 4), dtype=float32)\n"
          ],
          "name": "stdout"
        }
      ]
    },
    {
      "cell_type": "code",
      "metadata": {
        "id": "OSceE2tcuMyW",
        "colab_type": "code",
        "outputId": "49bc215f-c4fb-40c4-f0ae-7a8348020f1b",
        "colab": {
          "base_uri": "https://localhost:8080/",
          "height": 1000
        }
      },
      "source": [
        "print(new_sample_tensor)\n",
        "print()\n",
        "print()\n",
        "print(new_sample_tensor_2)\n",
        "print()\n",
        "print()\n",
        "print(new_sample_tensor_3)\n"
      ],
      "execution_count": 14,
      "outputs": [
        {
          "output_type": "stream",
          "text": [
            "tf.Tensor(\n",
            "[1. 1. 1. 1. 1. 1. 1. 1. 1. 1. 1. 1. 1. 1. 1. 1. 1. 1. 1. 1. 1. 1. 1. 1.\n",
            " 1. 1. 1. 1. 1. 1. 1. 1. 1. 1. 1. 1. 1. 1. 1. 1. 1. 1. 1. 1. 1. 1. 1. 1.\n",
            " 1. 1. 1. 1. 1. 1. 1. 1. 1. 1. 1. 1. 1. 1. 1. 1. 1. 1. 1. 1. 1. 1. 1. 1.\n",
            " 1. 1. 1. 1. 1. 1. 1. 1. 1. 1. 1. 1. 1. 1. 1. 1. 1. 1. 1. 1. 1. 1. 1. 1.\n",
            " 1. 1. 1. 1. 1. 1. 1. 1. 1. 1. 1. 1. 1. 1. 1. 1. 1. 1. 1. 1. 1. 1. 1. 1.\n",
            " 1. 1. 1. 1. 1. 1. 1. 1. 1. 1. 1. 1. 1. 1. 1. 1. 1. 1. 1. 1. 1. 1. 1. 1.\n",
            " 1. 1. 1. 1. 1. 1. 1. 1. 1. 1. 1. 1. 1. 1. 1. 1. 1. 1. 1. 1. 1. 1. 1. 1.\n",
            " 1. 1. 1. 1. 1. 1. 1. 1. 1. 1. 1. 1. 1. 1. 1. 1. 1. 1. 1. 1. 1. 1. 1. 1.\n",
            " 1. 1. 1. 1. 1. 1. 1. 1. 1. 1. 1. 1. 1. 1. 1. 1. 1. 1. 1. 1. 1. 1. 1. 1.\n",
            " 1. 1. 1. 1. 1. 1. 1. 1. 1. 1. 1. 1. 1. 1. 1. 1. 1. 1. 1. 1. 1. 1. 1. 1.\n",
            " 1. 1. 1. 1. 1. 1. 1. 1. 1. 1. 1. 1. 1. 1. 1. 1.], shape=(256,), dtype=float32)\n",
            "\n",
            "\n",
            "tf.Tensor(\n",
            "[[1. 1. 1. 1. 1. 1. 1. 1. 1. 1. 1. 1. 1. 1. 1. 1.]\n",
            " [1. 1. 1. 1. 1. 1. 1. 1. 1. 1. 1. 1. 1. 1. 1. 1.]\n",
            " [1. 1. 1. 1. 1. 1. 1. 1. 1. 1. 1. 1. 1. 1. 1. 1.]\n",
            " [1. 1. 1. 1. 1. 1. 1. 1. 1. 1. 1. 1. 1. 1. 1. 1.]\n",
            " [1. 1. 1. 1. 1. 1. 1. 1. 1. 1. 1. 1. 1. 1. 1. 1.]\n",
            " [1. 1. 1. 1. 1. 1. 1. 1. 1. 1. 1. 1. 1. 1. 1. 1.]\n",
            " [1. 1. 1. 1. 1. 1. 1. 1. 1. 1. 1. 1. 1. 1. 1. 1.]\n",
            " [1. 1. 1. 1. 1. 1. 1. 1. 1. 1. 1. 1. 1. 1. 1. 1.]\n",
            " [1. 1. 1. 1. 1. 1. 1. 1. 1. 1. 1. 1. 1. 1. 1. 1.]\n",
            " [1. 1. 1. 1. 1. 1. 1. 1. 1. 1. 1. 1. 1. 1. 1. 1.]\n",
            " [1. 1. 1. 1. 1. 1. 1. 1. 1. 1. 1. 1. 1. 1. 1. 1.]\n",
            " [1. 1. 1. 1. 1. 1. 1. 1. 1. 1. 1. 1. 1. 1. 1. 1.]\n",
            " [1. 1. 1. 1. 1. 1. 1. 1. 1. 1. 1. 1. 1. 1. 1. 1.]\n",
            " [1. 1. 1. 1. 1. 1. 1. 1. 1. 1. 1. 1. 1. 1. 1. 1.]\n",
            " [1. 1. 1. 1. 1. 1. 1. 1. 1. 1. 1. 1. 1. 1. 1. 1.]\n",
            " [1. 1. 1. 1. 1. 1. 1. 1. 1. 1. 1. 1. 1. 1. 1. 1.]], shape=(16, 16), dtype=float32)\n",
            "\n",
            "\n",
            "tf.Tensor(\n",
            "[[[1. 1. 1. 1. 1. 1. 1. 1.]\n",
            "  [1. 1. 1. 1. 1. 1. 1. 1.]\n",
            "  [1. 1. 1. 1. 1. 1. 1. 1.]\n",
            "  [1. 1. 1. 1. 1. 1. 1. 1.]\n",
            "  [1. 1. 1. 1. 1. 1. 1. 1.]\n",
            "  [1. 1. 1. 1. 1. 1. 1. 1.]\n",
            "  [1. 1. 1. 1. 1. 1. 1. 1.]\n",
            "  [1. 1. 1. 1. 1. 1. 1. 1.]\n",
            "  [1. 1. 1. 1. 1. 1. 1. 1.]\n",
            "  [1. 1. 1. 1. 1. 1. 1. 1.]\n",
            "  [1. 1. 1. 1. 1. 1. 1. 1.]\n",
            "  [1. 1. 1. 1. 1. 1. 1. 1.]\n",
            "  [1. 1. 1. 1. 1. 1. 1. 1.]\n",
            "  [1. 1. 1. 1. 1. 1. 1. 1.]\n",
            "  [1. 1. 1. 1. 1. 1. 1. 1.]\n",
            "  [1. 1. 1. 1. 1. 1. 1. 1.]]\n",
            "\n",
            " [[1. 1. 1. 1. 1. 1. 1. 1.]\n",
            "  [1. 1. 1. 1. 1. 1. 1. 1.]\n",
            "  [1. 1. 1. 1. 1. 1. 1. 1.]\n",
            "  [1. 1. 1. 1. 1. 1. 1. 1.]\n",
            "  [1. 1. 1. 1. 1. 1. 1. 1.]\n",
            "  [1. 1. 1. 1. 1. 1. 1. 1.]\n",
            "  [1. 1. 1. 1. 1. 1. 1. 1.]\n",
            "  [1. 1. 1. 1. 1. 1. 1. 1.]\n",
            "  [1. 1. 1. 1. 1. 1. 1. 1.]\n",
            "  [1. 1. 1. 1. 1. 1. 1. 1.]\n",
            "  [1. 1. 1. 1. 1. 1. 1. 1.]\n",
            "  [1. 1. 1. 1. 1. 1. 1. 1.]\n",
            "  [1. 1. 1. 1. 1. 1. 1. 1.]\n",
            "  [1. 1. 1. 1. 1. 1. 1. 1.]\n",
            "  [1. 1. 1. 1. 1. 1. 1. 1.]\n",
            "  [1. 1. 1. 1. 1. 1. 1. 1.]]], shape=(2, 16, 8), dtype=float32)\n"
          ],
          "name": "stdout"
        }
      ]
    },
    {
      "cell_type": "code",
      "metadata": {
        "id": "rM28s4eRuVum",
        "colab_type": "code",
        "outputId": "3c658c22-dc9b-49dc-ee6e-636b72a634d2",
        "colab": {
          "base_uri": "https://localhost:8080/",
          "height": 67
        }
      },
      "source": [
        "# checking ranks individually\n",
        "\n",
        "print(tf.rank(new_sample_tensor))\n",
        "print(tf.rank(new_sample_tensor_2))\n",
        "print(tf.rank(new_sample_tensor_3))"
      ],
      "execution_count": 15,
      "outputs": [
        {
          "output_type": "stream",
          "text": [
            "tf.Tensor(1, shape=(), dtype=int32)\n",
            "tf.Tensor(2, shape=(), dtype=int32)\n",
            "tf.Tensor(3, shape=(), dtype=int32)\n"
          ],
          "name": "stdout"
        }
      ]
    },
    {
      "cell_type": "markdown",
      "metadata": {
        "id": "Pm4CT0W0cs11",
        "colab_type": "text"
      },
      "source": [
        "Types of Tensors : \n",
        "\n",
        "1)Variable\n",
        "\n",
        "2)Constant\n",
        "\n",
        "3)Placeholder\n",
        "\n",
        "4)SparseTensor"
      ]
    },
    {
      "cell_type": "code",
      "metadata": {
        "id": "kdaUKpgUgYZ2",
        "colab_type": "code",
        "outputId": "e03142ad-c895-470f-883e-a1e79b63d55a",
        "colab": {
          "base_uri": "https://localhost:8080/",
          "height": 50
        }
      },
      "source": [
        "# SLICING of tensors\n",
        "\n",
        "# Creating a 2-D tensor\n",
        "matrix = [[1,2,3,4,5],\n",
        "          [6,7,8,9,10],\n",
        "          [11,12,13,14,15],\n",
        "          [16,17,18,19,20]]\n",
        "\n",
        "\n",
        "tensor = tf.Variable(matrix, dtype=tf.int32) \n",
        "print(tf.rank(tensor))\n",
        "print(tensor.shape)"
      ],
      "execution_count": 16,
      "outputs": [
        {
          "output_type": "stream",
          "text": [
            "tf.Tensor(2, shape=(), dtype=int32)\n",
            "(4, 5)\n"
          ],
          "name": "stdout"
        }
      ]
    },
    {
      "cell_type": "code",
      "metadata": {
        "id": "ukK8eGKJg_Z6",
        "colab_type": "code",
        "outputId": "c80ddc3a-fb62-4dca-bf1f-23c45fe6a779",
        "colab": {
          "base_uri": "https://localhost:8080/",
          "height": 217
        }
      },
      "source": [
        "# Now lets select some different rows and columns from our tensor\n",
        "\n",
        "three = tensor[0,2]  # selects the 3rd element from the 1st row\n",
        "print(three)  \n",
        "print()\n",
        "row1 = tensor[0]  # selects the first row\n",
        "print(row1)\n",
        "print()\n",
        "\n",
        "column1 = tensor[:, 0]  # selects the first column\n",
        "print(column1)\n",
        "print()\n",
        "\n",
        "row_2_and_4 = tensor[1::2]  # selects second and fourth row\n",
        "print(row_2_and_4)\n",
        "print()\n",
        "\n",
        "column_1_in_row_2_and_3 = tensor[1:3, 0]\n",
        "print(column_1_in_row_2_and_3)\n",
        "print()"
      ],
      "execution_count": 17,
      "outputs": [
        {
          "output_type": "stream",
          "text": [
            "tf.Tensor(3, shape=(), dtype=int32)\n",
            "\n",
            "tf.Tensor([1 2 3 4 5], shape=(5,), dtype=int32)\n",
            "\n",
            "tf.Tensor([ 1  6 11 16], shape=(4,), dtype=int32)\n",
            "\n",
            "tf.Tensor(\n",
            "[[ 6  7  8  9 10]\n",
            " [16 17 18 19 20]], shape=(2, 5), dtype=int32)\n",
            "\n",
            "tf.Tensor([ 6 11], shape=(2,), dtype=int32)\n",
            "\n"
          ],
          "name": "stdout"
        }
      ]
    },
    {
      "cell_type": "code",
      "metadata": {
        "id": "ElnAXvag6XYK",
        "colab_type": "code",
        "colab": {}
      },
      "source": [
        "# Importing  modules for linear regression"
      ],
      "execution_count": 0,
      "outputs": []
    },
    {
      "cell_type": "code",
      "metadata": {
        "id": "U4n_iGOF6jXR",
        "colab_type": "code",
        "colab": {}
      },
      "source": [
        "from __future__ import absolute_import, division, print_function, unicode_literals\n",
        "\n",
        "import numpy as np # optimisec version of arrays\n",
        "import pandas as pd # data analytics tool for manipulating data \n",
        "import matplotlib.pyplot as plt # visualizing tool in python\n",
        "\n",
        "from IPython.display import clear_output\n",
        "# for clearing the output\n",
        "\n",
        "import tensorflow.compat.v2.feature_column as fc\n",
        "# to import feature_column\n",
        "\n"
      ],
      "execution_count": 0,
      "outputs": []
    },
    {
      "cell_type": "code",
      "metadata": {
        "id": "F_6erMR77b3T",
        "colab_type": "code",
        "colab": {}
      },
      "source": [
        "# data is required to train the model\n",
        "\n",
        "dftrain = pd.read_csv(\"https://storage.googleapis.com/tf-datasets/titanic/train.csv\") # training data \n",
        "dfeval = pd.read_csv(\"https://storage.googleapis.com/tf-datasets/titanic/eval.csv\") # testing data \n",
        "ytrain = dftrain.pop(\"survived\")\n",
        "yeval = dfeval.pop(\"survived\")\n",
        "\n",
        "# Titanic data set : find the chance of survival of the passengers"
      ],
      "execution_count": 0,
      "outputs": []
    },
    {
      "cell_type": "code",
      "metadata": {
        "id": "aUYhCi9O9bO1",
        "colab_type": "code",
        "outputId": "2a198979-21f2-48bb-dd01-3b68151f0cba",
        "colab": {
          "base_uri": "https://localhost:8080/",
          "height": 196
        }
      },
      "source": [
        "dftrain.head() \n",
        "# pop function works inplace\n"
      ],
      "execution_count": 21,
      "outputs": [
        {
          "output_type": "execute_result",
          "data": {
            "text/html": [
              "<div>\n",
              "<style scoped>\n",
              "    .dataframe tbody tr th:only-of-type {\n",
              "        vertical-align: middle;\n",
              "    }\n",
              "\n",
              "    .dataframe tbody tr th {\n",
              "        vertical-align: top;\n",
              "    }\n",
              "\n",
              "    .dataframe thead th {\n",
              "        text-align: right;\n",
              "    }\n",
              "</style>\n",
              "<table border=\"1\" class=\"dataframe\">\n",
              "  <thead>\n",
              "    <tr style=\"text-align: right;\">\n",
              "      <th></th>\n",
              "      <th>sex</th>\n",
              "      <th>age</th>\n",
              "      <th>n_siblings_spouses</th>\n",
              "      <th>parch</th>\n",
              "      <th>fare</th>\n",
              "      <th>class</th>\n",
              "      <th>deck</th>\n",
              "      <th>embark_town</th>\n",
              "      <th>alone</th>\n",
              "    </tr>\n",
              "  </thead>\n",
              "  <tbody>\n",
              "    <tr>\n",
              "      <th>0</th>\n",
              "      <td>male</td>\n",
              "      <td>22.0</td>\n",
              "      <td>1</td>\n",
              "      <td>0</td>\n",
              "      <td>7.2500</td>\n",
              "      <td>Third</td>\n",
              "      <td>unknown</td>\n",
              "      <td>Southampton</td>\n",
              "      <td>n</td>\n",
              "    </tr>\n",
              "    <tr>\n",
              "      <th>1</th>\n",
              "      <td>female</td>\n",
              "      <td>38.0</td>\n",
              "      <td>1</td>\n",
              "      <td>0</td>\n",
              "      <td>71.2833</td>\n",
              "      <td>First</td>\n",
              "      <td>C</td>\n",
              "      <td>Cherbourg</td>\n",
              "      <td>n</td>\n",
              "    </tr>\n",
              "    <tr>\n",
              "      <th>2</th>\n",
              "      <td>female</td>\n",
              "      <td>26.0</td>\n",
              "      <td>0</td>\n",
              "      <td>0</td>\n",
              "      <td>7.9250</td>\n",
              "      <td>Third</td>\n",
              "      <td>unknown</td>\n",
              "      <td>Southampton</td>\n",
              "      <td>y</td>\n",
              "    </tr>\n",
              "    <tr>\n",
              "      <th>3</th>\n",
              "      <td>female</td>\n",
              "      <td>35.0</td>\n",
              "      <td>1</td>\n",
              "      <td>0</td>\n",
              "      <td>53.1000</td>\n",
              "      <td>First</td>\n",
              "      <td>C</td>\n",
              "      <td>Southampton</td>\n",
              "      <td>n</td>\n",
              "    </tr>\n",
              "    <tr>\n",
              "      <th>4</th>\n",
              "      <td>male</td>\n",
              "      <td>28.0</td>\n",
              "      <td>0</td>\n",
              "      <td>0</td>\n",
              "      <td>8.4583</td>\n",
              "      <td>Third</td>\n",
              "      <td>unknown</td>\n",
              "      <td>Queenstown</td>\n",
              "      <td>y</td>\n",
              "    </tr>\n",
              "  </tbody>\n",
              "</table>\n",
              "</div>"
            ],
            "text/plain": [
              "      sex   age  n_siblings_spouses  parch  ...  class     deck  embark_town alone\n",
              "0    male  22.0                   1      0  ...  Third  unknown  Southampton     n\n",
              "1  female  38.0                   1      0  ...  First        C    Cherbourg     n\n",
              "2  female  26.0                   0      0  ...  Third  unknown  Southampton     y\n",
              "3  female  35.0                   1      0  ...  First        C  Southampton     n\n",
              "4    male  28.0                   0      0  ...  Third  unknown   Queenstown     y\n",
              "\n",
              "[5 rows x 9 columns]"
            ]
          },
          "metadata": {
            "tags": []
          },
          "execution_count": 21
        }
      ]
    },
    {
      "cell_type": "code",
      "metadata": {
        "id": "KPu_ZCs99erh",
        "colab_type": "code",
        "outputId": "ac6db0a1-3b5f-48fd-e330-87b2d97626b8",
        "colab": {
          "base_uri": "https://localhost:8080/",
          "height": 284
        }
      },
      "source": [
        "dftrain.info()"
      ],
      "execution_count": 22,
      "outputs": [
        {
          "output_type": "stream",
          "text": [
            "<class 'pandas.core.frame.DataFrame'>\n",
            "RangeIndex: 627 entries, 0 to 626\n",
            "Data columns (total 9 columns):\n",
            " #   Column              Non-Null Count  Dtype  \n",
            "---  ------              --------------  -----  \n",
            " 0   sex                 627 non-null    object \n",
            " 1   age                 627 non-null    float64\n",
            " 2   n_siblings_spouses  627 non-null    int64  \n",
            " 3   parch               627 non-null    int64  \n",
            " 4   fare                627 non-null    float64\n",
            " 5   class               627 non-null    object \n",
            " 6   deck                627 non-null    object \n",
            " 7   embark_town         627 non-null    object \n",
            " 8   alone               627 non-null    object \n",
            "dtypes: float64(2), int64(2), object(5)\n",
            "memory usage: 44.2+ KB\n"
          ],
          "name": "stdout"
        }
      ]
    },
    {
      "cell_type": "code",
      "metadata": {
        "id": "v3xOKywg9omZ",
        "colab_type": "code",
        "outputId": "fa5f428e-4fe3-48e4-937e-0717e9a3b2d6",
        "colab": {
          "base_uri": "https://localhost:8080/",
          "height": 286
        }
      },
      "source": [
        "dftrain.describe()"
      ],
      "execution_count": 23,
      "outputs": [
        {
          "output_type": "execute_result",
          "data": {
            "text/html": [
              "<div>\n",
              "<style scoped>\n",
              "    .dataframe tbody tr th:only-of-type {\n",
              "        vertical-align: middle;\n",
              "    }\n",
              "\n",
              "    .dataframe tbody tr th {\n",
              "        vertical-align: top;\n",
              "    }\n",
              "\n",
              "    .dataframe thead th {\n",
              "        text-align: right;\n",
              "    }\n",
              "</style>\n",
              "<table border=\"1\" class=\"dataframe\">\n",
              "  <thead>\n",
              "    <tr style=\"text-align: right;\">\n",
              "      <th></th>\n",
              "      <th>age</th>\n",
              "      <th>n_siblings_spouses</th>\n",
              "      <th>parch</th>\n",
              "      <th>fare</th>\n",
              "    </tr>\n",
              "  </thead>\n",
              "  <tbody>\n",
              "    <tr>\n",
              "      <th>count</th>\n",
              "      <td>627.000000</td>\n",
              "      <td>627.000000</td>\n",
              "      <td>627.000000</td>\n",
              "      <td>627.000000</td>\n",
              "    </tr>\n",
              "    <tr>\n",
              "      <th>mean</th>\n",
              "      <td>29.631308</td>\n",
              "      <td>0.545455</td>\n",
              "      <td>0.379585</td>\n",
              "      <td>34.385399</td>\n",
              "    </tr>\n",
              "    <tr>\n",
              "      <th>std</th>\n",
              "      <td>12.511818</td>\n",
              "      <td>1.151090</td>\n",
              "      <td>0.792999</td>\n",
              "      <td>54.597730</td>\n",
              "    </tr>\n",
              "    <tr>\n",
              "      <th>min</th>\n",
              "      <td>0.750000</td>\n",
              "      <td>0.000000</td>\n",
              "      <td>0.000000</td>\n",
              "      <td>0.000000</td>\n",
              "    </tr>\n",
              "    <tr>\n",
              "      <th>25%</th>\n",
              "      <td>23.000000</td>\n",
              "      <td>0.000000</td>\n",
              "      <td>0.000000</td>\n",
              "      <td>7.895800</td>\n",
              "    </tr>\n",
              "    <tr>\n",
              "      <th>50%</th>\n",
              "      <td>28.000000</td>\n",
              "      <td>0.000000</td>\n",
              "      <td>0.000000</td>\n",
              "      <td>15.045800</td>\n",
              "    </tr>\n",
              "    <tr>\n",
              "      <th>75%</th>\n",
              "      <td>35.000000</td>\n",
              "      <td>1.000000</td>\n",
              "      <td>0.000000</td>\n",
              "      <td>31.387500</td>\n",
              "    </tr>\n",
              "    <tr>\n",
              "      <th>max</th>\n",
              "      <td>80.000000</td>\n",
              "      <td>8.000000</td>\n",
              "      <td>5.000000</td>\n",
              "      <td>512.329200</td>\n",
              "    </tr>\n",
              "  </tbody>\n",
              "</table>\n",
              "</div>"
            ],
            "text/plain": [
              "              age  n_siblings_spouses       parch        fare\n",
              "count  627.000000          627.000000  627.000000  627.000000\n",
              "mean    29.631308            0.545455    0.379585   34.385399\n",
              "std     12.511818            1.151090    0.792999   54.597730\n",
              "min      0.750000            0.000000    0.000000    0.000000\n",
              "25%     23.000000            0.000000    0.000000    7.895800\n",
              "50%     28.000000            0.000000    0.000000   15.045800\n",
              "75%     35.000000            1.000000    0.000000   31.387500\n",
              "max     80.000000            8.000000    5.000000  512.329200"
            ]
          },
          "metadata": {
            "tags": []
          },
          "execution_count": 23
        }
      ]
    },
    {
      "cell_type": "code",
      "metadata": {
        "id": "VXcegjep9xum",
        "colab_type": "code",
        "outputId": "2c7f1819-5199-4f5f-ec4b-7a3714bcba1f",
        "colab": {
          "base_uri": "https://localhost:8080/",
          "height": 33
        }
      },
      "source": [
        "dftrain.shape\n"
      ],
      "execution_count": 24,
      "outputs": [
        {
          "output_type": "execute_result",
          "data": {
            "text/plain": [
              "(627, 9)"
            ]
          },
          "metadata": {
            "tags": []
          },
          "execution_count": 24
        }
      ]
    },
    {
      "cell_type": "code",
      "metadata": {
        "id": "_f2Y3Udd-FZC",
        "colab_type": "code",
        "outputId": "7b1bfc92-f91c-4dba-c1d8-95b8961a38b1",
        "colab": {
          "base_uri": "https://localhost:8080/",
          "height": 117
        }
      },
      "source": [
        "ytrain.head() # output values are in the form of zeros and ones"
      ],
      "execution_count": 25,
      "outputs": [
        {
          "output_type": "execute_result",
          "data": {
            "text/plain": [
              "0    0\n",
              "1    1\n",
              "2    1\n",
              "3    1\n",
              "4    0\n",
              "Name: survived, dtype: int64"
            ]
          },
          "metadata": {
            "tags": []
          },
          "execution_count": 25
        }
      ]
    },
    {
      "cell_type": "code",
      "metadata": {
        "id": "HiB9QOx2-MLa",
        "colab_type": "code",
        "outputId": "f6622c80-177d-4a07-dda1-fcdf3801c2f3",
        "colab": {
          "base_uri": "https://localhost:8080/",
          "height": 67
        }
      },
      "source": [
        "dftrain.columns # to find all columns in the training data "
      ],
      "execution_count": 26,
      "outputs": [
        {
          "output_type": "execute_result",
          "data": {
            "text/plain": [
              "Index(['sex', 'age', 'n_siblings_spouses', 'parch', 'fare', 'class', 'deck',\n",
              "       'embark_town', 'alone'],\n",
              "      dtype='object')"
            ]
          },
          "metadata": {
            "tags": []
          },
          "execution_count": 26
        }
      ]
    },
    {
      "cell_type": "code",
      "metadata": {
        "id": "BUJ0VQPD-nWZ",
        "colab_type": "code",
        "outputId": "56c10b37-67ff-441e-f479-f0b93c7df046",
        "colab": {
          "base_uri": "https://localhost:8080/",
          "height": 67
        }
      },
      "source": [
        "dftrain[\"sex\"].unique()\n",
        "dftrain[\"sex\"].value_counts()"
      ],
      "execution_count": 27,
      "outputs": [
        {
          "output_type": "execute_result",
          "data": {
            "text/plain": [
              "male      410\n",
              "female    217\n",
              "Name: sex, dtype: int64"
            ]
          },
          "metadata": {
            "tags": []
          },
          "execution_count": 27
        }
      ]
    },
    {
      "cell_type": "code",
      "metadata": {
        "id": "k6STZXpq-9tJ",
        "colab_type": "code",
        "outputId": "8d249655-55d0-446e-f18f-61220e5ccae5",
        "colab": {
          "base_uri": "https://localhost:8080/",
          "height": 167
        }
      },
      "source": [
        "dftrain[\"age\"].unique() # age of the passengers \n",
        "#dftrain[\"age\"].value_counts()"
      ],
      "execution_count": 28,
      "outputs": [
        {
          "output_type": "execute_result",
          "data": {
            "text/plain": [
              "array([22.  , 38.  , 26.  , 35.  , 28.  ,  2.  , 27.  , 14.  ,  4.  ,\n",
              "       20.  , 39.  , 31.  , 19.  , 40.  , 66.  , 42.  ,  3.  , 18.  ,\n",
              "        7.  , 49.  , 29.  , 65.  , 21.  , 28.5 , 11.  , 45.  , 17.  ,\n",
              "       32.  , 25.  ,  0.83, 30.  , 16.  , 23.  , 24.  , 46.  , 59.  ,\n",
              "       71.  , 34.  , 33.  , 37.  , 47.  , 14.5 , 70.5 , 32.5 ,  9.  ,\n",
              "       51.  , 55.5 , 40.5 , 44.  ,  1.  , 50.  , 36.  , 58.  , 20.5 ,\n",
              "       41.  , 63.  , 43.  , 61.  , 15.  , 60.  , 64.  ,  5.  , 52.  ,\n",
              "       48.  , 56.  ,  0.75, 54.  , 62.  , 53.  , 57.  , 80.  ,  6.  ,\n",
              "       70.  , 30.5 , 10.  , 34.5 ])"
            ]
          },
          "metadata": {
            "tags": []
          },
          "execution_count": 28
        }
      ]
    },
    {
      "cell_type": "code",
      "metadata": {
        "id": "XKWigSV6_BOM",
        "colab_type": "code",
        "outputId": "d22740a0-8580-42b9-b69c-f64ec043119c",
        "colab": {
          "base_uri": "https://localhost:8080/",
          "height": 33
        }
      },
      "source": [
        "dftrain[\"n_siblings_spouses\"].unique() # number of siblings and spouses of the passengers"
      ],
      "execution_count": 29,
      "outputs": [
        {
          "output_type": "execute_result",
          "data": {
            "text/plain": [
              "array([1, 0, 3, 4, 2, 5, 8])"
            ]
          },
          "metadata": {
            "tags": []
          },
          "execution_count": 29
        }
      ]
    },
    {
      "cell_type": "code",
      "metadata": {
        "id": "qPMsIq-F_IVm",
        "colab_type": "code",
        "outputId": "a21413f4-cc32-4284-cf6b-075a55bde570",
        "colab": {
          "base_uri": "https://localhost:8080/",
          "height": 33
        }
      },
      "source": [
        "dftrain[\"parch\"].unique() # number of parents and children of the passengers"
      ],
      "execution_count": 30,
      "outputs": [
        {
          "output_type": "execute_result",
          "data": {
            "text/plain": [
              "array([0, 1, 2, 5, 3, 4])"
            ]
          },
          "metadata": {
            "tags": []
          },
          "execution_count": 30
        }
      ]
    },
    {
      "cell_type": "code",
      "metadata": {
        "id": "jxNG0sJpjwL8",
        "colab_type": "code",
        "colab": {}
      },
      "source": [
        "#dftrain[\"fare\"].unique()"
      ],
      "execution_count": 0,
      "outputs": []
    },
    {
      "cell_type": "code",
      "metadata": {
        "id": "buVJXfqKj1JZ",
        "colab_type": "code",
        "outputId": "19d9f216-502c-4208-9ac8-d47e55ff1190",
        "colab": {
          "base_uri": "https://localhost:8080/",
          "height": 33
        }
      },
      "source": [
        "dftrain[\"class\"].unique() # class of the passengers : First, Second, Third"
      ],
      "execution_count": 32,
      "outputs": [
        {
          "output_type": "execute_result",
          "data": {
            "text/plain": [
              "array(['Third', 'First', 'Second'], dtype=object)"
            ]
          },
          "metadata": {
            "tags": []
          },
          "execution_count": 32
        }
      ]
    },
    {
      "cell_type": "code",
      "metadata": {
        "id": "VigA-69yo5Dy",
        "colab_type": "code",
        "outputId": "b77c7d36-da1c-4153-c6c7-f9a4a988a33b",
        "colab": {
          "base_uri": "https://localhost:8080/",
          "height": 84
        }
      },
      "source": [
        "dftrain[\"class\"].value_counts()"
      ],
      "execution_count": 33,
      "outputs": [
        {
          "output_type": "execute_result",
          "data": {
            "text/plain": [
              "Third     341\n",
              "First     159\n",
              "Second    127\n",
              "Name: class, dtype: int64"
            ]
          },
          "metadata": {
            "tags": []
          },
          "execution_count": 33
        }
      ]
    },
    {
      "cell_type": "code",
      "metadata": {
        "id": "jYTpPaMXkAlB",
        "colab_type": "code",
        "colab": {
          "base_uri": "https://localhost:8080/",
          "height": 33
        },
        "outputId": "27fdb512-a801-485f-c623-1b2664b01b44"
      },
      "source": [
        "dftrain[\"deck\"].unique() # here we have unknown values"
      ],
      "execution_count": 34,
      "outputs": [
        {
          "output_type": "execute_result",
          "data": {
            "text/plain": [
              "array(['unknown', 'C', 'G', 'A', 'B', 'D', 'F', 'E'], dtype=object)"
            ]
          },
          "metadata": {
            "tags": []
          },
          "execution_count": 34
        }
      ]
    },
    {
      "cell_type": "code",
      "metadata": {
        "id": "ta3zSZo4kNNt",
        "colab_type": "code",
        "outputId": "8de1d14f-31b9-47f6-977b-4e76f750b0b5",
        "colab": {
          "base_uri": "https://localhost:8080/",
          "height": 33
        }
      },
      "source": [
        "dftrain[\"embark_town\"].unique() # here also we have unknown values"
      ],
      "execution_count": 35,
      "outputs": [
        {
          "output_type": "execute_result",
          "data": {
            "text/plain": [
              "array(['Southampton', 'Cherbourg', 'Queenstown', 'unknown'], dtype=object)"
            ]
          },
          "metadata": {
            "tags": []
          },
          "execution_count": 35
        }
      ]
    },
    {
      "cell_type": "code",
      "metadata": {
        "id": "dlU0CDBhkbDe",
        "colab_type": "code",
        "outputId": "d5428f28-b895-4f79-9233-0d7b0fb0653d",
        "colab": {
          "base_uri": "https://localhost:8080/",
          "height": 33
        }
      },
      "source": [
        "dftrain[\"alone\"].unique() # whether the person is alone or not"
      ],
      "execution_count": 36,
      "outputs": [
        {
          "output_type": "execute_result",
          "data": {
            "text/plain": [
              "array(['n', 'y'], dtype=object)"
            ]
          },
          "metadata": {
            "tags": []
          },
          "execution_count": 36
        }
      ]
    },
    {
      "cell_type": "code",
      "metadata": {
        "id": "GJZwovA9kj8P",
        "colab_type": "code",
        "outputId": "c3dda400-61de-4943-ebab-2833a7b90d9c",
        "colab": {
          "base_uri": "https://localhost:8080/",
          "height": 67
        }
      },
      "source": [
        "dftrain[\"sex\"].value_counts()"
      ],
      "execution_count": 37,
      "outputs": [
        {
          "output_type": "execute_result",
          "data": {
            "text/plain": [
              "male      410\n",
              "female    217\n",
              "Name: sex, dtype: int64"
            ]
          },
          "metadata": {
            "tags": []
          },
          "execution_count": 37
        }
      ]
    },
    {
      "cell_type": "code",
      "metadata": {
        "id": "qcjnnG5YoV53",
        "colab_type": "code",
        "colab": {}
      },
      "source": [
        "# Visualizing some of the features "
      ],
      "execution_count": 0,
      "outputs": []
    },
    {
      "cell_type": "code",
      "metadata": {
        "id": "v8Qc02cGqPwO",
        "colab_type": "code",
        "outputId": "34313208-a617-4c4b-8d14-cc9e7a63a3ce",
        "colab": {
          "base_uri": "https://localhost:8080/",
          "height": 281
        }
      },
      "source": [
        "dftrain.age.hist(bins=20)\n",
        "# histogram to show different distribution of ages"
      ],
      "execution_count": 39,
      "outputs": [
        {
          "output_type": "execute_result",
          "data": {
            "text/plain": [
              "<matplotlib.axes._subplots.AxesSubplot at 0x7f3325df9550>"
            ]
          },
          "metadata": {
            "tags": []
          },
          "execution_count": 39
        },
        {
          "output_type": "display_data",
          "data": {
            "image/png": "[encoded data removed]",
            "text/plain": [
              "<Figure size 432x288 with 1 Axes>"
            ]
          },
          "metadata": {
            "tags": []
          }
        }
      ]
    },
    {
      "cell_type": "code",
      "metadata": {
        "id": "LsJNWF-kqXkK",
        "colab_type": "code",
        "outputId": "244b4071-9888-494f-84b2-f1a01327618d",
        "colab": {
          "base_uri": "https://localhost:8080/",
          "height": 281
        }
      },
      "source": [
        "dftrain.sex.value_counts().plot(kind='barh')\n",
        "# graph to show number of males and females"
      ],
      "execution_count": 40,
      "outputs": [
        {
          "output_type": "execute_result",
          "data": {
            "text/plain": [
              "<matplotlib.axes._subplots.AxesSubplot at 0x7f33258ac940>"
            ]
          },
          "metadata": {
            "tags": []
          },
          "execution_count": 40
        },
        {
          "output_type": "display_data",
          "data": {
            "image/png": "[encoded data removed]",
            "text/plain": [
              "<Figure size 432x288 with 1 Axes>"
            ]
          },
          "metadata": {
            "tags": []
          }
        }
      ]
    },
    {
      "cell_type": "code",
      "metadata": {
        "id": "DBapyrhOqZ1j",
        "colab_type": "code",
        "outputId": "a6161b33-6536-47a0-e0ae-71c194803792",
        "colab": {
          "base_uri": "https://localhost:8080/",
          "height": 281
        }
      },
      "source": [
        "dftrain['class'].value_counts().plot(kind='barh')\n",
        "# graph to show distribution of passengers into various classes"
      ],
      "execution_count": 41,
      "outputs": [
        {
          "output_type": "execute_result",
          "data": {
            "text/plain": [
              "<matplotlib.axes._subplots.AxesSubplot at 0x7f332581b2e8>"
            ]
          },
          "metadata": {
            "tags": []
          },
          "execution_count": 41
        },
        {
          "output_type": "display_data",
          "data": {
            "image/png": "[encoded data removed]",
            "text/plain": [
              "<Figure size 432x288 with 1 Axes>"
            ]
          },
          "metadata": {
            "tags": []
          }
        }
      ]
    },
    {
      "cell_type": "code",
      "metadata": {
        "id": "DFGPueO-qcWW",
        "colab_type": "code",
        "outputId": "be3ffb17-7165-4b46-db01-c00eb26f42a9",
        "colab": {
          "base_uri": "https://localhost:8080/",
          "height": 296
        }
      },
      "source": [
        "pd.concat([dftrain, ytrain], axis=1).groupby('sex').survived.mean().plot(kind='barh').set_xlabel('% survive')\n",
        "\n",
        "# distribution of males and females by their chances of survival"
      ],
      "execution_count": 42,
      "outputs": [
        {
          "output_type": "execute_result",
          "data": {
            "text/plain": [
              "Text(0.5, 0, '% survive')"
            ]
          },
          "metadata": {
            "tags": []
          },
          "execution_count": 42
        },
        {
          "output_type": "display_data",
          "data": {
            "image/png": "[encoded data removed]",
            "text/plain": [
              "<Figure size 432x288 with 1 Axes>"
            ]
          },
          "metadata": {
            "tags": []
          }
        }
      ]
    },
    {
      "cell_type": "markdown",
      "metadata": {
        "id": "b2G7UHt9GUYN",
        "colab_type": "text"
      },
      "source": [
        "Information extracted after analyzing the above plots:\n",
        "\n",
        "1) Most passengers are in their 20's or 30's\n",
        "\n",
        "2) Most passengers are male\n",
        "\n",
        "3) Most passengers are in \"Third\" class\n",
        "\n",
        "4) Females have a much higher chance of survival"
      ]
    },
    {
      "cell_type": "code",
      "metadata": {
        "id": "34fa0E9hqek3",
        "colab_type": "code",
        "outputId": "a964586a-2a6e-4c78-9b83-acc21bb66a8f",
        "colab": {
          "base_uri": "https://localhost:8080/",
          "height": 53
        }
      },
      "source": [
        "# spliting into categorical and numeric columns\n",
        "\n",
        "CATEGORICAL_COLUMNS = ['sex', 'n_siblings_spouses', 'parch', 'class', 'deck',\n",
        "                       'embark_town', 'alone']\n",
        "NUMERIC_COLUMNS = ['age', 'fare']\n",
        "\n",
        "# Creating feature columns\n",
        "\n",
        "feature_columns = []\n",
        "for feature_name in CATEGORICAL_COLUMNS:\n",
        "  vocabulary = dftrain[feature_name].unique()  # gets a list of all unique values from given feature column\n",
        "  feature_columns.append(tf.feature_column.categorical_column_with_vocabulary_list(feature_name, vocabulary))\n",
        "\n",
        "# For numeric data unique values are not required\n",
        "# numeric values can have infinite amount of values\n",
        "for feature_name in NUMERIC_COLUMNS:\n",
        "  feature_columns.append(tf.feature_column.numeric_column(feature_name, dtype=tf.float32))\n",
        "\n",
        "print(feature_columns)\n",
        "\n"
      ],
      "execution_count": 43,
      "outputs": [
        {
          "output_type": "stream",
          "text": [
            "[VocabularyListCategoricalColumn(key='sex', vocabulary_list=('male', 'female'), dtype=tf.string, default_value=-1, num_oov_buckets=0), VocabularyListCategoricalColumn(key='n_siblings_spouses', vocabulary_list=(1, 0, 3, 4, 2, 5, 8), dtype=tf.int64, default_value=-1, num_oov_buckets=0), VocabularyListCategoricalColumn(key='parch', vocabulary_list=(0, 1, 2, 5, 3, 4), dtype=tf.int64, default_value=-1, num_oov_buckets=0), VocabularyListCategoricalColumn(key='class', vocabulary_list=('Third', 'First', 'Second'), dtype=tf.string, default_value=-1, num_oov_buckets=0), VocabularyListCategoricalColumn(key='deck', vocabulary_list=('unknown', 'C', 'G', 'A', 'B', 'D', 'F', 'E'), dtype=tf.string, default_value=-1, num_oov_buckets=0), VocabularyListCategoricalColumn(key='embark_town', vocabulary_list=('Southampton', 'Cherbourg', 'Queenstown', 'unknown'), dtype=tf.string, default_value=-1, num_oov_buckets=0), VocabularyListCategoricalColumn(key='alone', vocabulary_list=('n', 'y'), dtype=tf.string, default_value=-1, num_oov_buckets=0), NumericColumn(key='age', shape=(1,), default_value=None, dtype=tf.float32, normalizer_fn=None), NumericColumn(key='fare', shape=(1,), default_value=None, dtype=tf.float32, normalizer_fn=None)]\n"
          ],
          "name": "stdout"
        }
      ]
    },
    {
      "cell_type": "code",
      "metadata": {
        "id": "mXWx_YKRM2YM",
        "colab_type": "code",
        "colab": {}
      },
      "source": [
        "# Earlier we converted columns manually \n",
        "# removed NaN values \n",
        "# Assign numbers to categorical values \n",
        "# No need to Encode data manually\n",
        "# By creating Feature Columns we have Tensorflow do that for us\n",
        "\n",
        "# Feature columns are used to crete our model using data in the dataset "
      ],
      "execution_count": 0,
      "outputs": []
    },
    {
      "cell_type": "code",
      "metadata": {
        "id": "A35FvnFzMumD",
        "colab_type": "code",
        "colab": {}
      },
      "source": [
        "# Training Process\n",
        "\n",
        "# Batches and Epochs\n",
        "\n",
        "# Overfitting"
      ],
      "execution_count": 0,
      "outputs": []
    },
    {
      "cell_type": "markdown",
      "metadata": {
        "id": "c5Luk5Y4KiA3",
        "colab_type": "text"
      },
      "source": [
        "The training process consists of steps to input data into the model using **batches**.\n",
        "\n",
        "**Epochs** : It is essentially the number of times the model is going to see the data. Each time the data in fed into the model in a different order. The model is able to pick up patters in data in a better way using this concept.\n",
        "\n",
        "This can lead to the problem of **OVERFITTING** where the model memorizes all the data points. \n",
        "\n",
        "Hence, we need to select an optimum number of epochs"
      ]
    },
    {
      "cell_type": "code",
      "metadata": {
        "id": "N2_ZJ4_tNNtu",
        "colab_type": "code",
        "colab": {}
      },
      "source": [
        "# Input Function\n",
        "\n",
        "# decides how our data is divided into batches and run as epochs to feed into our model"
      ],
      "execution_count": 0,
      "outputs": []
    },
    {
      "cell_type": "code",
      "metadata": {
        "id": "7ojaEtCcOA7L",
        "colab_type": "code",
        "colab": {}
      },
      "source": [
        "def make_input_fn(data_df, label_df, num_epochs=10, shuffle=True, batch_size=32):\n",
        "  def input_function():  \n",
        "    ds = tf.data.Dataset.from_tensor_slices((dict(data_df), label_df))  \n",
        "    if shuffle:\n",
        "      ds = ds.shuffle(1000)  \n",
        "    ds = ds.batch(batch_size).repeat(num_epochs)  \n",
        "    return ds  \n",
        "  return input_function  # return a function object for use\n",
        "\n",
        "# Input functions return function objects\n",
        "\n",
        "train_input_fn = make_input_fn(dftrain, ytrain) \n",
        " # here we will call the input_function that was returned to us to get a dataset object we can feed to the model\n",
        "\n",
        "eval_input_fn = make_input_fn(dfeval, yeval, num_epochs=1, shuffle=False)\n",
        "# no shuffle for evaluation data "
      ],
      "execution_count": 0,
      "outputs": []
    },
    {
      "cell_type": "code",
      "metadata": {
        "id": "eBpNoMozPncM",
        "colab_type": "code",
        "colab": {}
      },
      "source": [
        "# Creating the model"
      ],
      "execution_count": 0,
      "outputs": []
    },
    {
      "cell_type": "code",
      "metadata": {
        "id": "Go2JSUksOF88",
        "colab_type": "code",
        "outputId": "b4df167f-e9a8-4f41-c2a1-6de96750ebb4",
        "colab": {
          "base_uri": "https://localhost:8080/",
          "height": 187
        }
      },
      "source": [
        "linear_est = tf.estimator.LinearClassifier(feature_columns=feature_columns)\n",
        "\n",
        "# basically linear_est is the model that we aim to create and refine"
      ],
      "execution_count": 49,
      "outputs": [
        {
          "output_type": "stream",
          "text": [
            "INFO:tensorflow:Using default config.\n",
            "WARNING:tensorflow:Using temporary folder as model directory: /tmp/tmponzjxzoy\n",
            "INFO:tensorflow:Using config: {'_model_dir': '/tmp/tmponzjxzoy', '_tf_random_seed': None, '_save_summary_steps': 100, '_save_checkpoints_steps': None, '_save_checkpoints_secs': 600, '_session_config': allow_soft_placement: true\n",
            "graph_options {\n",
            "  rewrite_options {\n",
            "    meta_optimizer_iterations: ONE\n",
            "  }\n",
            "}\n",
            ", '_keep_checkpoint_max': 5, '_keep_checkpoint_every_n_hours': 10000, '_log_step_count_steps': 100, '_train_distribute': None, '_device_fn': None, '_protocol': None, '_eval_distribute': None, '_experimental_distribute': None, '_experimental_max_worker_delay_secs': None, '_session_creation_timeout_secs': 7200, '_service': None, '_cluster_spec': ClusterSpec({}), '_task_type': 'worker', '_task_id': 0, '_global_id_in_cluster': 0, '_master': '', '_evaluation_master': '', '_is_chief': True, '_num_ps_replicas': 0, '_num_worker_replicas': 1}\n"
          ],
          "name": "stdout"
        }
      ]
    },
    {
      "cell_type": "code",
      "metadata": {
        "id": "Z9iZAwuCPrqs",
        "colab_type": "code",
        "colab": {}
      },
      "source": [
        "# Training the model"
      ],
      "execution_count": 0,
      "outputs": []
    },
    {
      "cell_type": "code",
      "metadata": {
        "id": "4p_uNl74P79-",
        "colab_type": "code",
        "outputId": "0a734e6d-5e03-4573-efc8-b8d2cdd91a85",
        "colab": {
          "base_uri": "https://localhost:8080/",
          "height": 33
        }
      },
      "source": [
        "linear_est.train(train_input_fn)  # Training the model with the training data \n",
        "result = linear_est.evaluate(eval_input_fn)  # Testing on the model with the Testing data\n",
        "\n",
        "clear_output()  # clears console output\n",
        "print(result['accuracy'])  # the result variable is simply a dictionary of stats about our model\n",
        "\n"
      ],
      "execution_count": 51,
      "outputs": [
        {
          "output_type": "stream",
          "text": [
            "0.74242425\n"
          ],
          "name": "stdout"
        }
      ]
    },
    {
      "cell_type": "code",
      "metadata": {
        "id": "GBMdKViWP-6X",
        "colab_type": "code",
        "colab": {}
      },
      "source": [
        "# By now we are done with testing and training the model"
      ],
      "execution_count": 0,
      "outputs": []
    },
    {
      "cell_type": "code",
      "metadata": {
        "id": "dzYdgtNeS7tL",
        "colab_type": "code",
        "colab": {}
      },
      "source": [
        "# Now we will see the actual predictions which the model makes"
      ],
      "execution_count": 0,
      "outputs": []
    },
    {
      "cell_type": "code",
      "metadata": {
        "id": "cBMX9B1UTPFF",
        "colab_type": "code",
        "colab": {
          "base_uri": "https://localhost:8080/",
          "height": 518
        },
        "outputId": "4c4d8f14-c557-4ff1-c98c-27840b7fad3b"
      },
      "source": [
        "pred_dicts = list(linear_est.predict(eval_input_fn))\n",
        "probs = pd.Series([pred['probabilities'][1] for pred in pred_dicts])\n",
        "\n",
        "probs.plot(kind='hist', bins=20, title='predicted probabilities')"
      ],
      "execution_count": 54,
      "outputs": [
        {
          "output_type": "stream",
          "text": [
            "INFO:tensorflow:Calling model_fn.\n",
            "WARNING:tensorflow:Layer linear/linear_model is casting an input tensor from dtype float64 to the layer's dtype of float32, which is new behavior in TensorFlow 2.  The layer has dtype float32 because it's dtype defaults to floatx.\n",
            "\n",
            "If you intended to run this layer in float32, you can safely ignore this warning. If in doubt, this warning is likely only an issue if you are porting a TensorFlow 1.X model to TensorFlow 2.\n",
            "\n",
            "To change all layers to have dtype float64 by default, call `tf.keras.backend.set_floatx('float64')`. To change just this layer, pass dtype='float64' to the layer constructor. If you are the author of this layer, you can disable autocasting by passing autocast=False to the base Layer constructor.\n",
            "\n",
            "INFO:tensorflow:Done calling model_fn.\n",
            "INFO:tensorflow:Graph was finalized.\n",
            "INFO:tensorflow:Restoring parameters from /tmp/tmponzjxzoy/model.ckpt-200\n",
            "INFO:tensorflow:Running local_init_op.\n",
            "INFO:tensorflow:Done running local_init_op.\n"
          ],
          "name": "stdout"
        },
        {
          "output_type": "execute_result",
          "data": {
            "text/plain": [
              "<matplotlib.axes._subplots.AxesSubplot at 0x7f33243ebc50>"
            ]
          },
          "metadata": {
            "tags": []
          },
          "execution_count": 54
        },
        {
          "output_type": "display_data",
          "data": {
            "image/png": "[encoded data removed]",
            "text/plain": [
              "<Figure size 432x288 with 1 Axes>"
            ]
          },
          "metadata": {
            "tags": []
          }
        }
      ]
    },
    {
      "cell_type": "code",
      "metadata": {
        "id": "AydhICPqTQDZ",
        "colab_type": "code",
        "colab": {}
      },
      "source": [
        "# In the above graph :\n",
        "# values > 0.5 are predicted as \"Survived\"\n",
        "# values < 0.5 are predicted as \"Not Survived\""
      ],
      "execution_count": 0,
      "outputs": []
    },
    {
      "cell_type": "code",
      "metadata": {
        "id": "bf8JfmbwYuj4",
        "colab_type": "code",
        "colab": {}
      },
      "source": [
        ""
      ],
      "execution_count": 0,
      "outputs": []
    }
  ]
}